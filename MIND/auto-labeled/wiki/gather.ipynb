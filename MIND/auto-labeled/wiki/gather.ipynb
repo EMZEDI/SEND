{
 "cells": [
  {
   "cell_type": "code",
   "execution_count": 1,
   "metadata": {},
   "outputs": [],
   "source": [
    "import pandas as pd\n",
    "import json\n"
   ]
  },
  {
   "cell_type": "code",
   "execution_count": 2,
   "metadata": {},
   "outputs": [
    {
     "name": "stdout",
     "output_type": "stream",
     "text": [
      "8191\n",
      "                              title\n",
      "0  Obesity hypoventilation syndrome\n",
      "1           f ( ( x1 , ... , xN ) )\n",
      "2             Adelaide Anne Procter\n",
      "3                   Bazy Tankersley\n",
      "4                         Afternoon\n"
     ]
    }
   ],
   "source": [
    "# read wiki_test.json, wiki_train.json, and wiki_valid.json and put in one json variable\n",
    "with open('wiki_test.json') as f:\n",
    "    wiki_test = json.load(f)\n",
    "with open('wiki_train.json') as f:\n",
    "    wiki_train = json.load(f)\n",
    "with open('wiki_valid.json') as f:\n",
    "    wiki_valid = json.load(f)\n",
    "\n",
    "wiki = wiki_test + wiki_train + wiki_valid\n",
    "\n",
    "# create a dataframe from the json variable - only keep the \"title\" column\n",
    "df = pd.DataFrame(wiki)\n",
    "df = df[[\"title\"]]\n",
    "df = df.drop_duplicates()\n",
    "df = df.reset_index(drop=True)\n",
    "\n",
    "# write the dataframe to a csv file\n",
    "df.to_csv('wiki_titles.csv', index=False)\n",
    "\n",
    "# print the number of unique titles\n",
    "print(len(df))\n",
    "\n",
    "# print the first 5 titles\n",
    "print(df.head())"
   ]
  },
  {
   "cell_type": "code",
   "execution_count": null,
   "metadata": {},
   "outputs": [],
   "source": []
  }
 ],
 "metadata": {
  "kernelspec": {
   "display_name": "env",
   "language": "python",
   "name": "python3"
  },
  "language_info": {
   "codemirror_mode": {
    "name": "ipython",
    "version": 3
   },
   "file_extension": ".py",
   "mimetype": "text/x-python",
   "name": "python",
   "nbconvert_exporter": "python",
   "pygments_lexer": "ipython3",
   "version": "3.10.12"
  }
 },
 "nbformat": 4,
 "nbformat_minor": 2
}
